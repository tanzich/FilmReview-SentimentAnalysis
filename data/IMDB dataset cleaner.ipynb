{
 "cells": [
  {
   "cell_type": "code",
   "execution_count": 8,
   "id": "5c7d395b",
   "metadata": {},
   "outputs": [],
   "source": [
    "import pandas as pd\n",
    "import spacy \n",
    "import re\n",
    "import csv\n",
    "#!pip install -U spacy\n",
    "#!python -m spacy download en_core_web_sm\n",
    "#already installed into PythonData"
   ]
  },
  {
   "cell_type": "code",
   "execution_count": 9,
   "id": "eb9200cf",
   "metadata": {},
   "outputs": [],
   "source": [
    "file_dir = 'C:/Users/ryanc/OneDrive/Desktop/ProjectFolder/Sentiment-Analysis/data/'\n",
    "\n",
    "df = pd.read_csv(f'{file_dir}IMDB Dataset.csv')#reduced to 1000 reviews from the original\n"
   ]
  },
  {
   "cell_type": "code",
   "execution_count": 10,
   "id": "bf004861",
   "metadata": {},
   "outputs": [],
   "source": [
    "#df.toCSV\n",
    "#text1 = df[\"review\"].iloc[55]\n",
    "#reviews = df[\"review\"]\n",
    "\n",
    "#cleans the review column\n",
    "for i, current_row in df.iterrows():\n",
    "    review = current_row[\"review\"]\n",
    "    \n",
    "    #Step 1 remove html stuff\n",
    "    TAG_RE = re.compile(r'<[^>]+>')\n",
    "\n",
    "    def remove_tags(text):\n",
    "        return TAG_RE.sub('', text)\n",
    "\n",
    "    clean1 = remove_tags(review)\n",
    "    #print(clean1)\n",
    "    \n",
    "    from string import punctuation\n",
    "    #Step 2 clean\n",
    "    def preprocess_text(text):\n",
    "        text = text.lower()  # Lowercase text\n",
    "        text = re.sub(f\"[{re.escape(punctuation)}]\", \"\", text)  # Remove punctuation\n",
    "        text = \" \".join(text.split())  # Remove extra spaces, tabs, and new lines\n",
    "        text = re.sub(r\"\\b[0-9]+\\b\\s*\", \"\", text) #remove numbers\n",
    "        tokens = text.split()\n",
    "        clean_tokens = [t for t in tokens if len(t) > 1]\n",
    "        text = \" \".join(clean_tokens)\n",
    "        return text\n",
    "    clean2 = preprocess_text(clean1)\n",
    "    #print(clean2)\n",
    "    current_row[\"review\"]=clean2\n",
    "\n",
    "    #Step 3 use spacy to tokenize words\n",
    "    #nlp = spacy.load(\"en_core_web_sm\")\n",
    "    #doc = nlp(clean2)\n",
    "    #tokens = [token.text for token in doc]\n",
    "    #print(tokens)\n",
    "#df.head()\n",
    "df.to_csv(r'C:\\users\\ryanc\\OneDrive\\Desktop\\ProjectFolder\\CleanDataOutput2.csv', index=False)"
   ]
  },
  {
   "cell_type": "code",
   "execution_count": null,
   "id": "2b24840f",
   "metadata": {},
   "outputs": [],
   "source": [
    "\n"
   ]
  }
 ],
 "metadata": {
  "kernelspec": {
   "display_name": "PythonData",
   "language": "python",
   "name": "pythondata"
  },
  "language_info": {
   "codemirror_mode": {
    "name": "ipython",
    "version": 3
   },
   "file_extension": ".py",
   "mimetype": "text/x-python",
   "name": "python",
   "nbconvert_exporter": "python",
   "pygments_lexer": "ipython3",
   "version": "3.9.7"
  }
 },
 "nbformat": 4,
 "nbformat_minor": 5
}
